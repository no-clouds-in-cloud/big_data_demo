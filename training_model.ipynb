{
 "cells": [
  {
   "cell_type": "code",
   "execution_count": 13,
   "metadata": {},
   "outputs": [],
   "source": [
    "import os\n",
    "import numpy as np\n",
    "import cv2\n",
    "from skimage import io\n",
    "from sklearn.ensemble import RandomForestClassifier\n",
    "from sklearn.model_selection import train_test_split\n",
    "from joblib import dump\n",
    "from sklearn.model_selection import GridSearchCV"
   ]
  },
  {
   "cell_type": "code",
   "execution_count": 14,
   "metadata": {},
   "outputs": [],
   "source": [
    "def load_images_and_masks(data_dir, mask_dir):\n",
    "    image_files = [os.path.join(data_dir, f) for f in sorted(os.listdir(data_dir)) if f.endswith('.png')]\n",
    "    mask_files = [os.path.join(mask_dir, f) for f in sorted(os.listdir(mask_dir)) if f.endswith('.png')]\n",
    "\n",
    "    all_features = []\n",
    "    all_labels = []\n",
    "\n",
    "    for image_file, mask_file in zip(image_files, mask_files):\n",
    "        # Load the image and mask\n",
    "        image = io.imread(image_file)\n",
    "        mask = io.imread(mask_file, as_gray=True)\n",
    "\n",
    "        # Flatten the image to have shape (n_pixels, n_channels)\n",
    "        features = image.reshape(-1, 3)\n",
    "        # Flatten the mask and convert to binary labels\n",
    "        labels = (mask.flatten() > 128).astype(int)  # Adjust threshold as necessary\n",
    "\n",
    "        all_features.append(features)\n",
    "        all_labels.append(labels)\n",
    "\n",
    "    # Stack all features and labels vertically\n",
    "    return np.vstack(all_features), np.concatenate(all_labels)\n"
   ]
  },
  {
   "cell_type": "code",
   "execution_count": 15,
   "metadata": {},
   "outputs": [],
   "source": [
    "def train_random_forest(features, labels):\n",
    "    X_train, X_test, y_train, y_test = train_test_split(features, labels, test_size=0.20, random_state=42)\n",
    "    clf = clf = RandomForestClassifier(n_estimators=100, max_depth=20, max_features=None, min_samples_leaf=5, min_samples_split=10, n_jobs=-1, random_state=42)\n",
    "    clf.fit(X_train, y_train)\n",
    "    print(\"Accuracy on test set:\", clf.score(X_test, y_test))\n",
    "    return clf\n",
    "    "
   ]
  },
  {
   "cell_type": "code",
   "execution_count": 16,
   "metadata": {},
   "outputs": [],
   "source": [
    "def save_model(model, filename):\n",
    "    dump(model, filename)"
   ]
  },
  {
   "cell_type": "code",
   "execution_count": 18,
   "metadata": {},
   "outputs": [
    {
     "name": "stdout",
     "output_type": "stream",
     "text": [
      "Accuracy on test set: 0.821901003519694\n",
      "Validation accuracy: 0.8172175089518229\n"
     ]
    }
   ],
   "source": [
    "def main():\n",
    "    train_img_dir = 'Dataset/images/train'\n",
    "    train_mask_dir = 'Dataset/masks/train'\n",
    "    val_img_dir = 'Dataset/images/val'\n",
    "    val_mask_dir = 'Dataset/masks/val'\n",
    "    \n",
    "    # Load training data\n",
    "    train_features, train_labels = load_images_and_masks(train_img_dir, train_mask_dir)\n",
    "    \n",
    "    # Train model\n",
    "    clf = train_random_forest(train_features, train_labels)\n",
    "    \n",
    "    # Optionally, load and evaluate validation data\n",
    "    val_features, val_labels = load_images_and_masks(val_img_dir, val_mask_dir)\n",
    "    print(\"Validation accuracy:\", clf.score(val_features, val_labels))\n",
    "    \n",
    "    # Save the trained model\n",
    "    save_model(clf, 'random_forest_model5.joblib')\n",
    "\n",
    "if __name__ == \"__main__\":\n",
    "    main()"
   ]
  }
 ],
 "metadata": {
  "kernelspec": {
   "display_name": "base",
   "language": "python",
   "name": "python3"
  },
  "language_info": {
   "codemirror_mode": {
    "name": "ipython",
    "version": 3
   },
   "file_extension": ".py",
   "mimetype": "text/x-python",
   "name": "python",
   "nbconvert_exporter": "python",
   "pygments_lexer": "ipython3",
   "version": "3.11.5"
  }
 },
 "nbformat": 4,
 "nbformat_minor": 2
}
