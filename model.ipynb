{
 "cells": [
  {
   "cell_type": "code",
   "execution_count": 2,
   "metadata": {},
   "outputs": [],
   "source": [
    "import cv2\n",
    "import numpy as np\n",
    "from sklearn.ensemble import RandomForestClassifier\n",
    "from sklearn.model_selection import train_test_split\n",
    "from skimage import io\n",
    "from joblib import dump, load"
   ]
  },
  {
   "cell_type": "code",
   "execution_count": 3,
   "metadata": {},
   "outputs": [],
   "source": [
    "# Load the model from the file\n",
    "clf_loaded = load('random_forest_model5.joblib')"
   ]
  },
  {
   "cell_type": "code",
   "execution_count": 4,
   "metadata": {},
   "outputs": [],
   "source": [
    "def create_cloud_mask(clf, image_path, output_path):\n",
    "    image = io.imread(image_path)\n",
    "    image = image.astype(np.uint8)\n",
    "    features = image.reshape(-1, 3)\n",
    "    predictions = clf.predict(features)\n",
    "    mask = predictions.reshape(image.shape[0], image.shape[1])\n",
    "    mask = mask.astype(np.uint8)\n",
    "    cv2.imwrite(output_path, mask * 255)  # Save the mask as a grayscale image"
   ]
  },
  {
   "cell_type": "code",
   "execution_count": 6,
   "metadata": {},
   "outputs": [],
   "source": [
    "new_image_paths = ['/Users/arsenchuzhykov/Desktop/new_sat/img.png']\n",
    "output_paths = ['mask.png']\n",
    "for img_path, out_path in zip(new_image_paths, output_paths):\n",
    "    create_cloud_mask(clf_loaded, img_path, out_path)"
   ]
  }
 ],
 "metadata": {
  "kernelspec": {
   "display_name": "base",
   "language": "python",
   "name": "python3"
  },
  "language_info": {
   "codemirror_mode": {
    "name": "ipython",
    "version": 3
   },
   "file_extension": ".py",
   "mimetype": "text/x-python",
   "name": "python",
   "nbconvert_exporter": "python",
   "pygments_lexer": "ipython3",
   "version": "3.11.5"
  }
 },
 "nbformat": 4,
 "nbformat_minor": 2
}
